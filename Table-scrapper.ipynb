{
 "cells": [
  {
   "cell_type": "code",
   "execution_count": 10,
   "metadata": {},
   "outputs": [],
   "source": [
    "url= \"https://en.wikipedia.org/wiki/List_of_Bollywood_films_of_2015\"   # Enter url of website to scrape table"
   ]
  },
  {
   "cell_type": "code",
   "execution_count": 11,
   "metadata": {},
   "outputs": [],
   "source": [
    "import requests\n",
    "from bs4 import BeautifulSoup as bs          # importing required libraries"
   ]
  },
  {
   "cell_type": "code",
   "execution_count": 12,
   "metadata": {},
   "outputs": [
    {
     "name": "stdout",
     "output_type": "stream",
     "text": [
      "Success\n"
     ]
    }
   ],
   "source": [
    "page= requests.get(url)\n",
    "if(page.status_code==200):\n",
    "    print(\"Success\")\n",
    "else:\n",
    "    print(\"Error code:\",page.status_code)                  # shows status code of fetching requested url content"
   ]
  },
  {
   "cell_type": "code",
   "execution_count": 13,
   "metadata": {},
   "outputs": [],
   "source": [
    "soup= bs(page.content,'html.parser')\n",
    "all_tables=(list(soup.find_all('table')))                 # Extracting essential information from website"
   ]
  },
  {
   "cell_type": "code",
   "execution_count": 14,
   "metadata": {},
   "outputs": [],
   "source": [
    "all_table_data=[]\n",
    "all_table_header=[]\n",
    "for table in all_tables:\n",
    "    all_rows= list(table.find_all('tr'))\n",
    "    table_data=[]\n",
    "    for r in all_rows:\n",
    "        headers= list(r.find_all('th')) \n",
    "        row_data= list(r.find_all('td'))\n",
    "        data=[]\n",
    "        for h in headers:\n",
    "            data.append(h.get_text())\n",
    "        for col_data_in_row in row_data:\n",
    "            data.append(col_data_in_row.get_text())\n",
    "        if len(data)!=0:\n",
    "            table_data.append(data)\n",
    "    \n",
    "    \n",
    "    all_table_data.append(table_data)\n",
    "        \n",
    "                                            # Scrapping data"
   ]
  },
  {
   "cell_type": "code",
   "execution_count": 15,
   "metadata": {},
   "outputs": [],
   "source": [
    "import pandas as pd\n",
    "tables=[]\n",
    "for i in range(len(all_table_data)):\n",
    "    tables.append(pd.DataFrame(all_table_data[i]))\n",
    "        # formatting data"
   ]
  },
  {
   "cell_type": "code",
   "execution_count": 16,
   "metadata": {},
   "outputs": [
    {
     "name": "stdout",
     "output_type": "stream",
     "text": [
      "Total tables found: 7\n",
      "View table data by using: tables[i]  ( where i is in range 0 to 6 )\n"
     ]
    }
   ],
   "source": [
    "print(\"Total tables found:\",len(tables))\n",
    "print(\"View table data by using: tables[i]  ( where i is in range 0 to\",len(tables)-1,\")\")       "
   ]
  },
  {
   "cell_type": "code",
   "execution_count": 17,
   "metadata": {},
   "outputs": [
    {
     "data": {
      "text/html": [
       "<div>\n",
       "<style scoped>\n",
       "    .dataframe tbody tr th:only-of-type {\n",
       "        vertical-align: middle;\n",
       "    }\n",
       "\n",
       "    .dataframe tbody tr th {\n",
       "        vertical-align: top;\n",
       "    }\n",
       "\n",
       "    .dataframe thead th {\n",
       "        text-align: right;\n",
       "    }\n",
       "</style>\n",
       "<table border=\"1\" class=\"dataframe\">\n",
       "  <thead>\n",
       "    <tr style=\"text-align: right;\">\n",
       "      <th></th>\n",
       "      <th>0</th>\n",
       "      <th>1</th>\n",
       "      <th>2</th>\n",
       "      <th>3</th>\n",
       "    </tr>\n",
       "  </thead>\n",
       "  <tbody>\n",
       "    <tr>\n",
       "      <th>0</th>\n",
       "      <td>Rank</td>\n",
       "      <td>Title</td>\n",
       "      <td>Worldwide gross</td>\n",
       "      <td>Ref.</td>\n",
       "    </tr>\n",
       "    <tr>\n",
       "      <th>1</th>\n",
       "      <td>1</td>\n",
       "      <td>Bajrangi Bhaijaan</td>\n",
       "      <td>₹970.05 crore (US$151 million)</td>\n",
       "      <td>[a]</td>\n",
       "    </tr>\n",
       "    <tr>\n",
       "      <th>2</th>\n",
       "      <td>2</td>\n",
       "      <td>Prem Ratan Dhan Payo</td>\n",
       "      <td>₹432 crore (US$67 million)</td>\n",
       "      <td>[4]</td>\n",
       "    </tr>\n",
       "    <tr>\n",
       "      <th>3</th>\n",
       "      <td>3</td>\n",
       "      <td>Dilwale</td>\n",
       "      <td>₹408.15 crore (US$64 million)</td>\n",
       "      <td>[b]</td>\n",
       "    </tr>\n",
       "    <tr>\n",
       "      <th>4</th>\n",
       "      <td>4</td>\n",
       "      <td>Bajirao Mastani</td>\n",
       "      <td>₹356.2 crore (US$56 million)</td>\n",
       "      <td>[11]</td>\n",
       "    </tr>\n",
       "    <tr>\n",
       "      <th>5</th>\n",
       "      <td>5</td>\n",
       "      <td>Tanu Weds Manu: Returns</td>\n",
       "      <td>₹243.6 crore (US$38 million)</td>\n",
       "      <td>[11]</td>\n",
       "    </tr>\n",
       "    <tr>\n",
       "      <th>6</th>\n",
       "      <td>6</td>\n",
       "      <td>Welcome Back</td>\n",
       "      <td>₹168.76 crore (US$26 million)</td>\n",
       "      <td>[11]</td>\n",
       "    </tr>\n",
       "    <tr>\n",
       "      <th>7</th>\n",
       "      <td>7</td>\n",
       "      <td>ABCD 2</td>\n",
       "      <td>₹158.31 crore (US$25 million)</td>\n",
       "      <td>[11]</td>\n",
       "    </tr>\n",
       "    <tr>\n",
       "      <th>8</th>\n",
       "      <td>8</td>\n",
       "      <td>Dil Dhadakne Do</td>\n",
       "      <td>₹144.79 crore (US$23 million)</td>\n",
       "      <td>[11]</td>\n",
       "    </tr>\n",
       "    <tr>\n",
       "      <th>9</th>\n",
       "      <td>9</td>\n",
       "      <td>Piku</td>\n",
       "      <td>₹141.26 crore (US$22 million)</td>\n",
       "      <td>[11]</td>\n",
       "    </tr>\n",
       "    <tr>\n",
       "      <th>10</th>\n",
       "      <td>10</td>\n",
       "      <td>Tamasha</td>\n",
       "      <td>₹136.63 crore (US$21 million)</td>\n",
       "      <td>[11]</td>\n",
       "    </tr>\n",
       "  </tbody>\n",
       "</table>\n",
       "</div>"
      ],
      "text/plain": [
       "       0                        1                               2     3\n",
       "0   Rank                    Title                 Worldwide gross  Ref.\n",
       "1      1        Bajrangi Bhaijaan  ₹970.05 crore (US$151 million)   [a]\n",
       "2      2     Prem Ratan Dhan Payo      ₹432 crore (US$67 million)   [4]\n",
       "3      3                  Dilwale   ₹408.15 crore (US$64 million)   [b]\n",
       "4      4          Bajirao Mastani    ₹356.2 crore (US$56 million)  [11]\n",
       "5      5  Tanu Weds Manu: Returns    ₹243.6 crore (US$38 million)  [11]\n",
       "6      6             Welcome Back   ₹168.76 crore (US$26 million)  [11]\n",
       "7      7                   ABCD 2   ₹158.31 crore (US$25 million)  [11]\n",
       "8      8          Dil Dhadakne Do   ₹144.79 crore (US$23 million)  [11]\n",
       "9      9                     Piku   ₹141.26 crore (US$22 million)  [11]\n",
       "10    10                  Tamasha   ₹136.63 crore (US$21 million)  [11]"
      ]
     },
     "execution_count": 17,
     "metadata": {},
     "output_type": "execute_result"
    }
   ],
   "source": [
    " tables[1]                 # view scrapped tables by index"
   ]
  },
  {
   "cell_type": "code",
   "execution_count": 18,
   "metadata": {},
   "outputs": [
    {
     "name": "stdout",
     "output_type": "stream",
     "text": [
      "Success\n"
     ]
    }
   ],
   "source": [
    "table_to_download= 0          # Enter index of table to be downloaded\n",
    "if table_to_download < len(tables):\n",
    "    tables[table_to_download].to_csv(\"table.csv\")\n",
    "    print(\"Success\")\n",
    "else:\n",
    "    print(\"Invalid Index\")"
   ]
  },
  {
   "cell_type": "code",
   "execution_count": null,
   "metadata": {},
   "outputs": [],
   "source": []
  }
 ],
 "metadata": {
  "kernelspec": {
   "display_name": "Python 3",
   "language": "python",
   "name": "python3"
  },
  "language_info": {
   "codemirror_mode": {
    "name": "ipython",
    "version": 3
   },
   "file_extension": ".py",
   "mimetype": "text/x-python",
   "name": "python",
   "nbconvert_exporter": "python",
   "pygments_lexer": "ipython3",
   "version": "3.6.5"
  }
 },
 "nbformat": 4,
 "nbformat_minor": 2
}
